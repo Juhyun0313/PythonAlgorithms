{
 "cells": [
  {
   "attachments": {},
   "cell_type": "markdown",
   "metadata": {},
   "source": [
    "# 8장. 연결 리스트\n",
    "https://waiting-numeric-fa9.notion.site/8-e992154c283e4fb8b113f449b798995e"
   ]
  },
  {
   "cell_type": "code",
   "execution_count": 34,
   "metadata": {},
   "outputs": [],
   "source": [
    "import collections\n",
    "\n",
    "# 연결 리스트 노드 함수\n",
    "\n",
    "class ListNode(object):\n",
    "    def __init__(self, val=0, next=None):\n",
    "        self.val = val\n",
    "        self.next = next\n",
    "\n",
    "def printNodes(node:ListNode):\n",
    "    crnt_node = node\n",
    "    while crnt_node is not None:\n",
    "        print(crnt_node.val , end= ' ')\n",
    "        crnt_node = crnt_node.next"
   ]
  },
  {
   "attachments": {},
   "cell_type": "markdown",
   "metadata": {},
   "source": [
    "# Q13. 팰린드롬 연결 리스트\n",
    "연결 리스트가 팰린드롬 구조인지 판별하라.\n"
   ]
  },
  {
   "attachments": {},
   "cell_type": "markdown",
   "metadata": {},
   "source": [
    "입력 : 1 -> 2\n",
    "\n",
    "출력 : False\n",
    "\n",
    "입력 : 1 -> 2 -> 2 -> 1\n",
    "\n",
    "출력 : True"
   ]
  },
  {
   "cell_type": "code",
   "execution_count": 35,
   "metadata": {},
   "outputs": [
    {
     "name": "stdout",
     "output_type": "stream",
     "text": [
      "head1 : \n",
      "1 2 \n",
      "head2 : \n",
      "1 2 2 1 "
     ]
    }
   ],
   "source": [
    "head1 = ListNode(1)\n",
    "head1.next = ListNode(2)\n",
    "print('head1 : ')\n",
    "printNodes(head1)\n",
    "\n",
    "head2 = ListNode(1)\n",
    "head2.next = ListNode(2)\n",
    "head2.next.next = ListNode(2)\n",
    "head2.next.next.next = ListNode(1)\n",
    "print('\\nhead2 : ')\n",
    "printNodes(head2)\n"
   ]
  },
  {
   "attachments": {},
   "cell_type": "markdown",
   "metadata": {},
   "source": [
    "연결 리스트에 대한 구조가 와닿지 않아 먼저 풀이를 참고해 보았다."
   ]
  },
  {
   "attachments": {},
   "cell_type": "markdown",
   "metadata": {},
   "source": [
    "<풀이 1 - 리스트 변환>\n",
    "\n",
    "단순히 연결리스트에 있는 원소들을 list의 형식으로 바꾸어 원소를 비교하는 방법이다."
   ]
  },
  {
   "cell_type": "code",
   "execution_count": 36,
   "metadata": {},
   "outputs": [],
   "source": [
    "def Palindrome(head : ListNode) -> bool :\n",
    "    q : list = []\n",
    "\n",
    "    # 빈 연결리스트일 경우\n",
    "    if not head :\n",
    "        return False\n",
    "    \n",
    "    # head의 첫 번째 노드를 시작으로 다음 노드를 배열로 저장\n",
    "    node = head\n",
    "    while node is not None :\n",
    "        q.append(node.val)\n",
    "        node = node.next\n",
    "    \n",
    "    # 팰린드롬 판별\n",
    "    # 리스트의 양끝 원소를 비교하고 제거\n",
    "    while len(q) > 1:\n",
    "        if q.pop(0) != q.pop():\n",
    "            return False\n",
    "        return True"
   ]
  },
  {
   "cell_type": "code",
   "execution_count": 37,
   "metadata": {},
   "outputs": [
    {
     "data": {
      "text/plain": [
       "False"
      ]
     },
     "execution_count": 37,
     "metadata": {},
     "output_type": "execute_result"
    }
   ],
   "source": [
    "Palindrome(head1)"
   ]
  },
  {
   "cell_type": "code",
   "execution_count": 38,
   "metadata": {},
   "outputs": [
    {
     "data": {
      "text/plain": [
       "True"
      ]
     },
     "execution_count": 38,
     "metadata": {},
     "output_type": "execute_result"
    }
   ],
   "source": [
    "Palindrome(head2)"
   ]
  },
  {
   "attachments": {},
   "cell_type": "markdown",
   "metadata": {},
   "source": [
    "<풀이 2 - 데크를 이용한 최적화>\n",
    "\n",
    "기본적으로 리스트를 활용하는 것과 똑같지만 리스트 대신 데크로 선언하는 것만 다르다."
   ]
  },
  {
   "cell_type": "code",
   "execution_count": 39,
   "metadata": {},
   "outputs": [],
   "source": [
    "def Palindrome(head : ListNode) -> bool:\n",
    "    q = collections.deque()\n",
    "    \n",
    "    # head에 아무것도 없을 때\n",
    "    if not head:\n",
    "        return False\n",
    "    \n",
    "    # head의 첫번째 노드를 시작으로 다음 노드를 배열로 저장\n",
    "    node = head\n",
    "    while node is not None:\n",
    "        q.append(node.val)\n",
    "        node = node.next\n",
    "    \n",
    "    # 팰린드롬 판별\n",
    "    while len(q) > 1:\n",
    "        if q.popleft() != q.pop():\n",
    "            return False\n",
    "    return True"
   ]
  },
  {
   "cell_type": "code",
   "execution_count": 40,
   "metadata": {},
   "outputs": [
    {
     "data": {
      "text/plain": [
       "False"
      ]
     },
     "execution_count": 40,
     "metadata": {},
     "output_type": "execute_result"
    }
   ],
   "source": [
    "Palindrome(head1)"
   ]
  },
  {
   "cell_type": "code",
   "execution_count": 41,
   "metadata": {},
   "outputs": [
    {
     "data": {
      "text/plain": [
       "True"
      ]
     },
     "execution_count": 41,
     "metadata": {},
     "output_type": "execute_result"
    }
   ],
   "source": [
    "Palindrome(head2)"
   ]
  },
  {
   "attachments": {},
   "cell_type": "markdown",
   "metadata": {},
   "source": [
    "<풀이 3 - 런너를 이용한 우아한 풀이>\n",
    "\n",
    "연결 리스트에서 자주 등장하게되는 풀이 방법이라고 한다. \n",
    "\n",
    "Fast Runner는 보통 두칸씩, Slow Runner는 한칸씩 움직이게 되면 Fast Runner가 마지막에 다달았을 때 Slow Runner는 중간 지점에 오게된다. \n",
    "\n",
    "또한 Slow Runner가 한칸씩 움직일 때 포인터를 역방향으로 등록해서 Rev를 만들게되면 중간 지점까지 역방향으로 연결된 연결리스트가 완성되게 된다. \n",
    "\n",
    "이 상태에서 Slow Runner는 남은 방향을 끝까지가고 역방향 연결리스트와 비교하게 되면 중간 지점부터 팰린드롬인지 아닌지 비교하게 되는 알고리즘이 완성되게 된다."
   ]
  },
  {
   "cell_type": "code",
   "execution_count": 42,
   "metadata": {},
   "outputs": [],
   "source": [
    "def Palindrome(head : ListNode) -> bool:\n",
    "    rev = None\n",
    "    slow = fast = head\n",
    "    \n",
    "    # 러너를 이용해 역순 연결 리스트 구성\n",
    "    while fast and fast.next :\n",
    "        fast = fast.next.next\n",
    "        rev, rev.next, slow = slow, rev, slow.next\n",
    "    if fast:\n",
    "        slow = slow.next\n",
    "    \n",
    "    # 팰린드롬 여부 확인\n",
    "    while rev and rev.val == slow.val:\n",
    "        slow, rev = slow.next, rev.next\n",
    "\n",
    "    # 끝까지 비교가 되었다면 slow와 rev는 None 일 것이다.\n",
    "    return not rev"
   ]
  },
  {
   "attachments": {},
   "cell_type": "markdown",
   "metadata": {},
   "source": [
    "//런너의 while 부분에서 rev, rev.next, slow = slow, rev, slow.next는 동시 다발적으로 발생하기때문에 다음과 같이 작용한다. //\n",
    "\n",
    "rev = 1 2 3 4 / \n",
    "rev.next => rev = 1 / \n",
    "slow = 2 3 4\n",
    "\n",
    "rev = 2 3 4 / \n",
    "rev.next => rev = 2 1 / \n",
    "slow = 3 4\n",
    "\n",
    "rev = 3 4 / \n",
    "rev.next => rev = 3 2 1 / \n",
    "slow = 4\n",
    "\n",
    "rev = 4 / \n",
    "rev.next => rev = 4 3 2 1 / \n",
    "slow = None"
   ]
  },
  {
   "cell_type": "code",
   "execution_count": 43,
   "metadata": {},
   "outputs": [
    {
     "data": {
      "text/plain": [
       "False"
      ]
     },
     "execution_count": 43,
     "metadata": {},
     "output_type": "execute_result"
    }
   ],
   "source": [
    "Palindrome(head1)"
   ]
  },
  {
   "cell_type": "code",
   "execution_count": 44,
   "metadata": {},
   "outputs": [
    {
     "data": {
      "text/plain": [
       "True"
      ]
     },
     "execution_count": 44,
     "metadata": {},
     "output_type": "execute_result"
    }
   ],
   "source": [
    "Palindrome(head2)"
   ]
  },
  {
   "attachments": {},
   "cell_type": "markdown",
   "metadata": {},
   "source": [
    "# Q14. 두 정렬 리스트의 병합\n",
    "정렬되어 있는 두연결 리스트를 합쳐라."
   ]
  },
  {
   "attachments": {},
   "cell_type": "markdown",
   "metadata": {},
   "source": [
    "입력 1 : 1 -> 2 -> 4\n",
    "\n",
    "입력 2 : 1 -> 3 -> 4\n",
    "\n",
    "출력 : 1 -> 1 -> 2 -> 3 -> 4 -> 4"
   ]
  },
  {
   "cell_type": "code",
   "execution_count": 45,
   "metadata": {},
   "outputs": [],
   "source": [
    "l1 = ListNode(1)\n",
    "l1.next = ListNode(2)\n",
    "l1.next.next = ListNode(4)\n",
    "\n",
    "l2 = ListNode(1)\n",
    "l2.next = ListNode(3)\n",
    "l2.next.next = ListNode(4)"
   ]
  },
  {
   "attachments": {},
   "cell_type": "markdown",
   "metadata": {},
   "source": [
    "처음엔 입력받은 연결 리스트를 배열 형태로 정리하여 합친 후 정렬하여 다시 연결리스트를 만드는 것을 생각헀다.\n",
    "\n",
    "하지만 다시 연결 리스트로 만드는 과정에서 head.next의 길이를 조절할 수 없다는 문제가 있기 때문에 불가능했다.\n",
    "\n",
    "책의 풀이는 주어진 연결 리스트가 이미 정렬되어 있기 때문에 첫 번째 값부터 차례대로 비교하면서 연결 리스트를 이어주는 방법이었다."
   ]
  },
  {
   "cell_type": "code",
   "execution_count": 46,
   "metadata": {},
   "outputs": [],
   "source": [
    "def mergeTwoLists(l1: ListNode, l2: ListNode) -> ListNode:\n",
    "        if (not l1) or (l2 and l1.val > l2.val):\n",
    "            l1, l2 = l2, l1\n",
    "        if l1:\n",
    "            l1.next = mergeTwoLists(l1.next, l2)\n",
    "        return l1"
   ]
  },
  {
   "attachments": {},
   "cell_type": "markdown",
   "metadata": {},
   "source": [
    "재귀 구조를 통해서 l1의 값이 l2보다 크게되면 두 연결 리스트를 교환해준다.\n",
    "\n",
    "그렇게되면 l1값은 l2보다 작아지게 되고 l1.next로 넘어가 다시 l1.next와 l2를 비교하면서\n",
    "\n",
    "작은 값을 하나씩 연결해나가는 것이다."
   ]
  },
  {
   "cell_type": "code",
   "execution_count": 47,
   "metadata": {},
   "outputs": [
    {
     "name": "stdout",
     "output_type": "stream",
     "text": [
      "1 1 2 3 4 4 "
     ]
    }
   ],
   "source": [
    "mergeTwoLists(l1, l2)\n",
    "printNodes(l1)"
   ]
  },
  {
   "attachments": {},
   "cell_type": "markdown",
   "metadata": {},
   "source": [
    "# Q15. 역순 연결 리스트\n",
    "연결 리스트를 뒤집어라."
   ]
  },
  {
   "attachments": {},
   "cell_type": "markdown",
   "metadata": {},
   "source": [
    "입력 : 1->2->3->4->5->NULL\n",
    "\n",
    "출력 : 5->4->3->2->1->NULL"
   ]
  },
  {
   "cell_type": "code",
   "execution_count": 48,
   "metadata": {},
   "outputs": [],
   "source": [
    "head = ListNode(1)\n",
    "head.next = ListNode(2)\n",
    "head.next.next = ListNode(3)\n",
    "head.next.next.next = ListNode(4)\n",
    "head.next.next.next.next = ListNode(5)"
   ]
  },
  {
   "cell_type": "code",
   "execution_count": 49,
   "metadata": {},
   "outputs": [],
   "source": [
    "def reverseList(l1 : ListNode) -> ListNode:\n",
    "    rev = None\n",
    "    slow = head\n",
    "\n",
    "    while slow :\n",
    "        rev, rev.next, slow = slow, rev, slow.next\n",
    "        \n",
    "    return printNodes(rev)"
   ]
  },
  {
   "cell_type": "code",
   "execution_count": 50,
   "metadata": {},
   "outputs": [
    {
     "name": "stdout",
     "output_type": "stream",
     "text": [
      "1 2 3 4 5 "
     ]
    }
   ],
   "source": [
    "printNodes(head)"
   ]
  },
  {
   "cell_type": "code",
   "execution_count": 51,
   "metadata": {},
   "outputs": [
    {
     "name": "stdout",
     "output_type": "stream",
     "text": [
      "5 4 3 2 1 "
     ]
    }
   ],
   "source": [
    "reverseList(head)"
   ]
  },
  {
   "attachments": {},
   "cell_type": "markdown",
   "metadata": {},
   "source": [
    "<풀이 1 - 재귀 구조로 뒤집기>\n",
    "\n"
   ]
  },
  {
   "cell_type": "code",
   "execution_count": 52,
   "metadata": {},
   "outputs": [],
   "source": [
    "head = ListNode(1)\n",
    "head.next = ListNode(2)\n",
    "head.next.next = ListNode(3)\n",
    "head.next.next.next = ListNode(4)\n",
    "head.next.next.next.next = ListNode(5)"
   ]
  },
  {
   "cell_type": "code",
   "execution_count": 53,
   "metadata": {},
   "outputs": [],
   "source": [
    "def reverseList(head: ListNode) -> ListNode:\n",
    "    def reverse(node: ListNode, prev: ListNode = None):\n",
    "        # 빈 노드일 경우 None을 return해준다.\n",
    "        if not node:\n",
    "            return prev\n",
    "        next, node.next = node.next, prev\n",
    "        return reverse(next, node)\n",
    "    \n",
    "    return reverse(head)"
   ]
  },
  {
   "attachments": {},
   "cell_type": "markdown",
   "metadata": {},
   "source": [
    "이전 문제에서 재귀 구조로 정렬한 것과 비슷한 방법이다.\n",
    "\n",
    "1>>\n",
    "\n",
    "node : 1 2 3 4 5 // prev : None\n",
    "\n",
    "next : 2 3 4 5 // node.next : 2 3 4 5 => None ∴ node : 1\n",
    "\n",
    "2>>\n",
    "\n",
    "node : 2 3 4 5 // prev : 1\n",
    "\n",
    "next : 3 4 5 // node.next : 3 4 5 => 1 ∴ node : 2 1\n",
    "\n",
    "3>>\n",
    "\n",
    "node : 3 4 5 // prev : 2 1\n",
    "\n",
    "next : 4 5 // node.next : 4 5 => 2 1 ∴ node : 3 2 1\n",
    "\n",
    "..."
   ]
  },
  {
   "cell_type": "code",
   "execution_count": 54,
   "metadata": {},
   "outputs": [
    {
     "name": "stdout",
     "output_type": "stream",
     "text": [
      "5 4 3 2 1 "
     ]
    }
   ],
   "source": [
    "printNodes(reverseList(head))"
   ]
  },
  {
   "attachments": {},
   "cell_type": "markdown",
   "metadata": {},
   "source": [
    "<풀이 2 - 반복 구조로 뒤집기>"
   ]
  },
  {
   "cell_type": "code",
   "execution_count": 55,
   "metadata": {},
   "outputs": [],
   "source": [
    "head = ListNode(1)\n",
    "head.next = ListNode(2)\n",
    "head.next.next = ListNode(3)\n",
    "head.next.next.next = ListNode(4)\n",
    "head.next.next.next.next = ListNode(5)"
   ]
  },
  {
   "cell_type": "code",
   "execution_count": 56,
   "metadata": {},
   "outputs": [],
   "source": [
    "def reverseList(head: ListNode) -> ListNode:\n",
    "    node, prev = head, None\n",
    "    \n",
    "    while node:\n",
    "        next, node.next = node.next, prev\n",
    "        prev, node = node, next\n",
    "    \n",
    "    return prev"
   ]
  },
  {
   "attachments": {},
   "cell_type": "markdown",
   "metadata": {},
   "source": [
    "node : 1 2 3 4 5 // prev : None\n",
    "\n",
    "1>>\n",
    "\n",
    "next : 2 3 4 5 // node.next : 2 3 4 5 => None ∴ node : 1\n",
    "\n",
    "prev : 1 // node : 2 3 4 5\n",
    "\n",
    "2>>\n",
    "\n",
    "next : 3 4 5 // node.next : 3 4 5 => 1 ∴ node : 2 1\n",
    "\n",
    "prev : 2 1 // node : 3 4 5\n",
    "\n",
    "..."
   ]
  },
  {
   "cell_type": "code",
   "execution_count": 57,
   "metadata": {},
   "outputs": [
    {
     "name": "stdout",
     "output_type": "stream",
     "text": [
      "1 2 3 4 5 "
     ]
    }
   ],
   "source": [
    "printNodes(head)"
   ]
  },
  {
   "cell_type": "code",
   "execution_count": 58,
   "metadata": {},
   "outputs": [
    {
     "name": "stdout",
     "output_type": "stream",
     "text": [
      "5 4 3 2 1 "
     ]
    }
   ],
   "source": [
    "printNodes(reverseList(head))"
   ]
  },
  {
   "attachments": {},
   "cell_type": "markdown",
   "metadata": {},
   "source": [
    "# Q16. 두 수의 덧셈\n",
    "역순으로 저장된 연결 리스트의 숫자를 더하라."
   ]
  },
  {
   "attachments": {},
   "cell_type": "markdown",
   "metadata": {},
   "source": [
    "입력 1 : (2->4->3) + 입력 2 : (5->6->4)\n",
    "\n",
    "//342 + 465\n",
    "\n",
    "출력 : 7->0->8  # 807"
   ]
  },
  {
   "cell_type": "code",
   "execution_count": 59,
   "metadata": {},
   "outputs": [],
   "source": [
    "l1 = ListNode(2)\n",
    "l1.next = ListNode(4)\n",
    "l1.next.next = ListNode(3)\n",
    "\n",
    "l2 = ListNode(5)\n",
    "l2.next = ListNode(6)\n",
    "l2.next.next = ListNode(4)"
   ]
  },
  {
   "attachments": {},
   "cell_type": "markdown",
   "metadata": {},
   "source": [
    "<내가 풀어본 방식>\n",
    "\n",
    "리스트 노드의 첫 번째 원소가 일의 자리부터 차례대로 진행되기 때문에\n",
    "\n",
    "차례대로 더해주면 된다. 다만 10이 넘어갈 때 해당 값에서 10을 빼주고 다음 노드에서 1을 더해줘야한다.\n",
    "\n",
    "또한, 두 숫자의 자릿수가 다르다면 자릿수를 0으로 채워 맞춰줘야한다."
   ]
  },
  {
   "cell_type": "code",
   "execution_count": 60,
   "metadata": {},
   "outputs": [],
   "source": [
    "def sumList(l1 : ListNode, l2 : ListNode) -> ListNode:\n",
    "    result = []\n",
    "\n",
    "    # l1, l2 둘 중 하나라도 값이 있다면 계속 진행\n",
    "    while l1 or l2 :\n",
    "        # 합이 10을 넘지 않을 때\n",
    "        if l1.val + l2.val < 10 :\n",
    "            result.append(l1.val + l2.val)\n",
    "            if (l1.next == None) and (l2.next != None) :\n",
    "                l1.next = ListNode(0)\n",
    "                l1, l2 = l1.next, l2.next\n",
    "            elif (l1.next != None) and (l2.next == None) :\n",
    "                l2.next = ListNode(0)\n",
    "                l1, l2 = l1.next, l2.next\n",
    "            elif (l1.next != None) and (l2.next != None) :\n",
    "                l1, l2 = l1.next, l2.next\n",
    "            else :\n",
    "                break\n",
    "        # 합이 10을 넘을 때\n",
    "        else :\n",
    "            result.append(l1.val + l2.val - 10)\n",
    "            if (l1.next == None) and (l2.next != None) :\n",
    "                l1.next = ListNode(1)\n",
    "                l1, l2 = l1.next, l2.next\n",
    "            elif (l1.next != None) and (l2.next == None) :\n",
    "                l2.next = ListNode(1)\n",
    "                l1, l2 = l1.next, l2.next\n",
    "            elif (l1.next != None) and (l2.next != None) :\n",
    "                l1.next.val += 1\n",
    "                l1, l2 = l1.next, l2.next\n",
    "            else :\n",
    "                l1.next = ListNode(1)\n",
    "                l2.next = ListNode(0)\n",
    "                l1, l2 = l1.next, l2.next\n",
    "    \n",
    "    # 배열을 ListNode로 변환하기\n",
    "    prev = None\n",
    "\n",
    "    while result :\n",
    "        vresult = ListNode(result.pop())\n",
    "        vresult.next = prev\n",
    "        prev = vresult\n",
    "\n",
    "    return printNodes(vresult)\n"
   ]
  },
  {
   "cell_type": "code",
   "execution_count": 61,
   "metadata": {},
   "outputs": [
    {
     "name": "stdout",
     "output_type": "stream",
     "text": [
      "7 0 8 "
     ]
    }
   ],
   "source": [
    "sumList(l1, l2)"
   ]
  },
  {
   "attachments": {},
   "cell_type": "markdown",
   "metadata": {},
   "source": [
    "변환은 잘 되지만 코드 자체가 깔끔하지 않고 if문으로 도배돼있어서 보기 좋지 않다.\n",
    "\n",
    "그래도 일단 LeetCode에서 타임아웃 없이 잘 진행되긴한다.\n",
    "\n",
    "책에서 나오는 깔끔한 풀이를 알아보자."
   ]
  },
  {
   "attachments": {},
   "cell_type": "markdown",
   "metadata": {},
   "source": [
    "<풀이 1 : 자료형 변환>"
   ]
  },
  {
   "attachments": {},
   "cell_type": "markdown",
   "metadata": {},
   "source": [
    "연결 리스트를 문자열로 변환 후 다시 숫자로 변환하고, 이를 모두 계산한 후 다시 연결 리스트로 바꾸는 것\n",
    "\n",
    "연결 리스트의 합을 배열로 변환하여 다시 연결 리스트로 바꿨던 나의 풀이와 비슷하지만 조금 더 복잡한 느낌이 든다."
   ]
  },
  {
   "cell_type": "code",
   "execution_count": 62,
   "metadata": {},
   "outputs": [],
   "source": [
    "l1 = ListNode(2)\n",
    "l1.next = ListNode(4)\n",
    "l1.next.next = ListNode(3)\n",
    "\n",
    "l2 = ListNode(5)\n",
    "l2.next = ListNode(6)\n",
    "l2.next.next = ListNode(4)"
   ]
  },
  {
   "cell_type": "code",
   "execution_count": 63,
   "metadata": {},
   "outputs": [],
   "source": [
    "class Solution:\n",
    "    # 연결 리스트 뒤집기\n",
    "    def reverseList(self, head : ListNode) -> ListNode:\n",
    "        node, prev = head, None\n",
    "\n",
    "        while node :\n",
    "            next, node.next = node. next, prev\n",
    "            prev, node = node, next\n",
    "        \n",
    "        return prev\n",
    "    \n",
    "    # 연결 리스트를 리스트로 변환\n",
    "    def toList(self, node : ListNode) -> list:\n",
    "        list : list = []\n",
    "        while node :\n",
    "            list.append(node.val)\n",
    "            node = node.next\n",
    "        return list\n",
    "    \n",
    "    # 파이썬 리스트를 연결 리스트로 변환\n",
    "    def toReversedLinkedList(self, result : str) -> ListNode:\n",
    "        prev : ListNode = None\n",
    "        for r in result :\n",
    "            node = ListNode(r)\n",
    "            node.next = prev\n",
    "            prev = node\n",
    "        \n",
    "        return node\n",
    "    \n",
    "    # 두 연결 리스트의 덧셈\n",
    "    def addTwoNumbers(self, l1 : ListNode, l2 : ListNode) -> ListNode:\n",
    "        a = self.toList(self.reverseList(l1))\n",
    "        b = self.toList(self.reverseList(l2))\n",
    "\n",
    "        resultStr = int(''.join(str(e) for e in a)) + \\\n",
    "                    int(''.join(str(e) for e in b))\n",
    "        \n",
    "        # 최종 계산 결과 연결 리스트 변환\n",
    "        return self.toReversedLinkedList(str(resultStr))"
   ]
  },
  {
   "cell_type": "code",
   "execution_count": 64,
   "metadata": {},
   "outputs": [
    {
     "name": "stdout",
     "output_type": "stream",
     "text": [
      "7 0 8 "
     ]
    }
   ],
   "source": [
    "sol = Solution()\n",
    "printNodes(sol.addTwoNumbers(l1, l2))"
   ]
  },
  {
   "attachments": {},
   "cell_type": "markdown",
   "metadata": {},
   "source": [
    "<풀이 2 : 전가산기 구현>"
   ]
  },
  {
   "attachments": {},
   "cell_type": "markdown",
   "metadata": {},
   "source": [
    "여기서는 논리 회로의 전가산기와 유사한 형태로 구현해볼 것이다.\n",
    "\n",
    "입력값 A와 B, 이전의 자리올림수(carry in) 이렇게 3가지 입력으로 합과 다음 자리올림수(carry out)여부를 결정한다."
   ]
  },
  {
   "cell_type": "code",
   "execution_count": 65,
   "metadata": {},
   "outputs": [],
   "source": [
    "l1 = ListNode(2)\n",
    "l1.next = ListNode(4)\n",
    "l1.next.next = ListNode(3)\n",
    "\n",
    "l2 = ListNode(5)\n",
    "l2.next = ListNode(6)\n",
    "l2.next.next = ListNode(4)"
   ]
  },
  {
   "cell_type": "code",
   "execution_count": 66,
   "metadata": {},
   "outputs": [],
   "source": [
    "def addTwoNumbers(l1 : ListNode, l2 : ListNode) -> ListNode:\n",
    "    root = head = ListNode(0)\n",
    "\n",
    "    carry = 0\n",
    "    while l1 or l2 or carry:\n",
    "        sum = 0\n",
    "        # 두 입력값의 합 계산\n",
    "        if l1 :\n",
    "            sum += l1.val\n",
    "            l1 = l1.next\n",
    "        if l2 :\n",
    "            sum += l2.val\n",
    "            l2 = l2.next\n",
    "        \n",
    "        # 몫(자리 올림수)과 나머지(값) 계산\n",
    "        carry, val = divmod(sum + carry, 10)\n",
    "        head.next = ListNode(val)\n",
    "        head = head.next\n",
    "        # 여기서 root는 head의 주소를 참조하고 있기 때문에 head의 값이 변화할 때 같이 변화하게 된다.\n",
    "        # 근데 head는 next를 통해 다음 값을 계속 받는 반면, root는 next를 통해 다음 원소로 넘어가지 않으므로\n",
    "        # 처음부터 입력받았던 연결 리스트를 온전히 다 저장할 수 있는 것이다.\n",
    "\n",
    "    return root.next"
   ]
  },
  {
   "cell_type": "code",
   "execution_count": 68,
   "metadata": {},
   "outputs": [
    {
     "name": "stdout",
     "output_type": "stream",
     "text": [
      "7 0 8 "
     ]
    }
   ],
   "source": [
    "printNodes(addTwoNumbers(l1, l2))"
   ]
  },
  {
   "attachments": {},
   "cell_type": "markdown",
   "metadata": {},
   "source": [
    "# Q17. 페어의 노드 스왑\n",
    "연결 리스트를 입력받아 페어(pair) 단위로 스왑하라."
   ]
  },
  {
   "attachments": {},
   "cell_type": "markdown",
   "metadata": {},
   "source": [
    "입력 : 1 -> 2 -> 3 -> 4\n",
    "\n",
    "출력 : 2 -> 1 -> 4 -> 3"
   ]
  },
  {
   "cell_type": "markdown",
   "metadata": {},
   "source": []
  },
  {
   "attachments": {},
   "cell_type": "markdown",
   "metadata": {},
   "source": [
    "<내가 풀어본 방식>\n",
    "\n",
    "내가 풀어본 방식은 홀수와 짝수로 나누어 각각 두 칸씩 건너뛰며 빈 연결 리스트에 역순으로 담아주는 것이다.\n",
    "\n",
    "연결 리스트는 None 다음에 오는 연결 리스트가 없으면 next를 실행할 때 에러가 나기때문에\n",
    "\n",
    "이에 대한 예외처리만 된다면 새로운 리스트를 만드는 것은 어렵지 않다고 생각했다.`"
   ]
  },
  {
   "cell_type": "code",
   "execution_count": 166,
   "metadata": {},
   "outputs": [],
   "source": [
    "l1 = ListNode(1)\n",
    "l1.next = ListNode(2)\n",
    "l1.next.next = ListNode(3)\n",
    "l1.next.next.next = ListNode(4)"
   ]
  },
  {
   "cell_type": "code",
   "execution_count": 167,
   "metadata": {},
   "outputs": [],
   "source": [
    "def pairSwap(head : ListNode) -> ListNode:\n",
    "    # 연결 리스트가 빈 연결 리스트일 때 빈 연결 리스트 그대로 반환\n",
    "    if head is not None:\n",
    "        odd = head\n",
    "        even = head.next\n",
    "        vroot = root = ListNode(0)\n",
    "    else :\n",
    "        return head\n",
    "    \n",
    "    # odd와 even을 두 칸씩 움직이며 even, odd 차례대로 연결 리스트 생성\n",
    "    while even or odd:\n",
    "        if (odd != None) and (even != None) :\n",
    "            root.next = ListNode(even.val)\n",
    "            root.next.next = ListNode(odd.val)\n",
    "            if odd.next.next != None:\n",
    "                root, odd, even = root.next.next, odd.next.next, even.next.next\n",
    "            else :\n",
    "                break\n",
    "        else :\n",
    "            root.next = ListNode(odd.val)\n",
    "            odd = odd.next\n",
    "        \n",
    "    return printNodes(vroot.next)"
   ]
  },
  {
   "cell_type": "code",
   "execution_count": 168,
   "metadata": {},
   "outputs": [
    {
     "name": "stdout",
     "output_type": "stream",
     "text": [
      "2 1 4 3 "
     ]
    }
   ],
   "source": [
    "pairSwap(l1)"
   ]
  },
  {
   "attachments": {},
   "cell_type": "markdown",
   "metadata": {},
   "source": [
    "<풀이 1 : 값만 교환>\n",
    "\n",
    "보통 연결 리스트 같은 경우는 복잡한 여러 가지 값들의 구조체로 구성되어 있어 단순히 값만 바꾸는 것은 어려운 일이다.\n",
    "\n",
    "하지만 이 문제의 경우 단 하나의 값으로 구성된 단순한 연결 리스트이고, 값을 바꾸는 정도는 어렵지 않게 가능하다."
   ]
  },
  {
   "cell_type": "code",
   "execution_count": 178,
   "metadata": {},
   "outputs": [],
   "source": [
    "l1 = ListNode(1)\n",
    "l1.next = ListNode(2)\n",
    "l1.next.next = ListNode(3)\n",
    "l1.next.next.next = ListNode(4)"
   ]
  },
  {
   "cell_type": "code",
   "execution_count": 179,
   "metadata": {},
   "outputs": [],
   "source": [
    "def swapPairs(head : ListNode) -> ListNode:\n",
    "    cur = head\n",
    "\n",
    "    while cur and cur.next :\n",
    "        # 값만 교환\n",
    "        cur.val, cur.next.val = cur.next.val, cur.val\n",
    "        cur = cur.next.next\n",
    "    \n",
    "    return head"
   ]
  },
  {
   "cell_type": "code",
   "execution_count": 180,
   "metadata": {},
   "outputs": [
    {
     "name": "stdout",
     "output_type": "stream",
     "text": [
      "2 1 4 3 "
     ]
    }
   ],
   "source": [
    "printNodes(swapPairs(l1))"
   ]
  },
  {
   "attachments": {},
   "cell_type": "markdown",
   "metadata": {},
   "source": [
    "<풀이 2 : 반복 구조로 스왑>\n",
    "\n",
    "값을 바꾸는 것에 비해 연결 리스트를 바꾸는 일은 다소 복잡한 문제이다. \n",
    "\n",
    "단순히 1→ 2를 2→1로 바꾸는 것이 아니라 앞뒤로 연결되어 있는 원소들도 같이 변경해야되기 때문이다. \n",
    "\n",
    "a → b의 연결 리스트가 있을 때 b는 a를 가리키게 하고 a는 b의 다다음 원소를 가리키게 하는 구조로 변경해주어야한다."
   ]
  },
  {
   "cell_type": "code",
   "execution_count": 182,
   "metadata": {},
   "outputs": [],
   "source": [
    "l1 = ListNode(1)\n",
    "l1.next = ListNode(2)\n",
    "l1.next.next = ListNode(3)\n",
    "l1.next.next.next = ListNode(4)"
   ]
  },
  {
   "cell_type": "code",
   "execution_count": 184,
   "metadata": {},
   "outputs": [],
   "source": [
    "def swapPairs(head : ListNode) -> ListNode :\n",
    "    root = prev = ListNode(None)\n",
    "    prev.next = head\n",
    "\n",
    "    while head and head.next:\n",
    "        # b가 a(head)를 가리키도록 할당\n",
    "        b = head.next\n",
    "        head.next = b.next\n",
    "        b.next = head\n",
    "\n",
    "        # prev가 b를 가리키도록 할당\n",
    "        prev.next = b\n",
    "\n",
    "        # 다음번 비교를 위해 이동\n",
    "        # prev는 b를 받아올 때 2개씩 건더뛰어야 되기 때문에 next * 2\n",
    "        # head는 처음에 할당값을 교환할 때 b의 값을 이어받는 부분에서\n",
    "        # b가 이미 하나 건너뛰었기 때문에 한번만 더 가면 된다.\n",
    "        head = head.next\n",
    "        prev = prev.next.next\n",
    "\n",
    "    return root.next"
   ]
  },
  {
   "cell_type": "code",
   "execution_count": 185,
   "metadata": {},
   "outputs": [
    {
     "name": "stdout",
     "output_type": "stream",
     "text": [
      "2 1 4 3 "
     ]
    }
   ],
   "source": [
    "printNodes(swapPairs(l1))"
   ]
  },
  {
   "attachments": {},
   "cell_type": "markdown",
   "metadata": {},
   "source": [
    "<풀이 3 : 재귀 구조로 스왑>\n",
    "\n",
    "반복 풀이와 달리 포인터 역할을 하나만으로 충분하여 공간 복잡도가 낮아진다.\n",
    "\n",
    "변수p는 head.next가 되고 p.next는 head가 된다. 그 사이에 재귀 호출로 계속 스왑된 값을 리턴받게 된다."
   ]
  },
  {
   "cell_type": "code",
   "execution_count": 188,
   "metadata": {},
   "outputs": [],
   "source": [
    "l1 = ListNode(1)\n",
    "l1.next = ListNode(2)\n",
    "l1.next.next = ListNode(3)\n",
    "l1.next.next.next = ListNode(4)"
   ]
  },
  {
   "cell_type": "code",
   "execution_count": 189,
   "metadata": {},
   "outputs": [],
   "source": [
    "def swapPairs(head : ListNode) -> ListNode:\n",
    "    if head and head.next:\n",
    "        p = head.next\n",
    "        # 스왑된 값 리턴 받음\n",
    "        head.next = swapPairs(p.next)\n",
    "        p.next = head\n",
    "        return p\n",
    "    return head"
   ]
  },
  {
   "cell_type": "code",
   "execution_count": 190,
   "metadata": {},
   "outputs": [
    {
     "name": "stdout",
     "output_type": "stream",
     "text": [
      "2 1 4 3 "
     ]
    }
   ],
   "source": [
    "printNodes(swapPairs(l1))"
   ]
  },
  {
   "attachments": {},
   "cell_type": "markdown",
   "metadata": {},
   "source": [
    "# Q18. 홀짝 연결 리스트\n",
    "연결 리스트를 홀수 노드 다음에 짝수 노드가 오도록 재구성하라. 공간 복잡도 O(1), 시간 복잡도 O(n)에 풀이하라."
   ]
  },
  {
   "attachments": {},
   "cell_type": "markdown",
   "metadata": {},
   "source": [
    "입력 1 : 1->2->3->4->5->NULL\n",
    "\n",
    "출력 1 : 1->3->5->2->4->NULL\n",
    "\n",
    "&&\n",
    "\n",
    "입력 2 : 2->1->3->5->6->4->7->NULL\n",
    "\n",
    "출력 2 : 2->3->6->7->1->5->4->NULL"
   ]
  },
  {
   "attachments": {},
   "cell_type": "markdown",
   "metadata": {},
   "source": [
    "<내가 풀어본 방식>\n",
    "\n",
    "홀수번 째 노드를 담는 연결 리스트와 짝수번 째 노드를 담는 연결 리스트를 작성 후,\n",
    "\n",
    "홀수번 째 노드 다음 노드를 짝수로 연결해주면 되지 않을까?"
   ]
  },
  {
   "cell_type": "code",
   "execution_count": 202,
   "metadata": {},
   "outputs": [],
   "source": [
    "l1 = ListNode(1)\n",
    "l1.next = ListNode(2)\n",
    "l1.next.next = ListNode(3)\n",
    "l1.next.next.next = ListNode(4)\n",
    "l1.next.next.next.next = ListNode(5)\n",
    "\n",
    "l2 = ListNode(2)\n",
    "l2.next = ListNode(1)\n",
    "l2.next.next = ListNode(3)\n",
    "l2.next.next.next = ListNode(5)\n",
    "l2.next.next.next.next = ListNode(6)\n",
    "l2.next.next.next.next.next = ListNode(4)\n",
    "l2.next.next.next.next.next.next = ListNode(7)"
   ]
  },
  {
   "cell_type": "code",
   "execution_count": 199,
   "metadata": {},
   "outputs": [],
   "source": [
    "def oddEvenList(head : ListNode) -> ListNode:\n",
    "    vodd = odd = ListNode(None)\n",
    "    veven = even = ListNode(None)\n",
    "    n = 1\n",
    "\n",
    "    while head:\n",
    "        if n % 2 == 1 :\n",
    "            odd.next = ListNode(head.val)\n",
    "            odd = odd.next\n",
    "        else :    \n",
    "            even.next = ListNode(head.val)\n",
    "            even = even.next\n",
    "        head = head.next\n",
    "        n += 1\n",
    "    \n",
    "    odd.next = veven.next\n",
    "\n",
    "    return printNodes(vodd.next)"
   ]
  },
  {
   "cell_type": "code",
   "execution_count": 200,
   "metadata": {},
   "outputs": [
    {
     "name": "stdout",
     "output_type": "stream",
     "text": [
      "1 3 5 2 4 "
     ]
    }
   ],
   "source": [
    "oddEvenList(l1)"
   ]
  },
  {
   "cell_type": "code",
   "execution_count": 201,
   "metadata": {},
   "outputs": [
    {
     "name": "stdout",
     "output_type": "stream",
     "text": [
      "2 3 6 7 1 5 4 "
     ]
    }
   ],
   "source": [
    "oddEvenList(l2)"
   ]
  },
  {
   "attachments": {},
   "cell_type": "markdown",
   "metadata": {},
   "source": [
    "<풀이 1 : 반복 구조로 홀짝 노드 처리>\n",
    "\n",
    "내가 푼 방식과 비슷하게 홀수노드와 짝수노드를 따로 등록하고 이어주는 방식\n",
    "\n",
    "알고리즘 적으로는 비슷하게 처리했지만, 변수를 활용하는 부분에서 차이가 좀 있다.\n",
    "\n",
    "하지만, 내가 푼 방식은 Runtime : 48ms, 해당 풀이는 51ms로 별 차이는 없다."
   ]
  },
  {
   "cell_type": "code",
   "execution_count": 210,
   "metadata": {},
   "outputs": [],
   "source": [
    "l1 = ListNode(1)\n",
    "l1.next = ListNode(2)\n",
    "l1.next.next = ListNode(3)\n",
    "l1.next.next.next = ListNode(4)\n",
    "l1.next.next.next.next = ListNode(5)\n",
    "\n",
    "l2 = ListNode(2)\n",
    "l2.next = ListNode(1)\n",
    "l2.next.next = ListNode(3)\n",
    "l2.next.next.next = ListNode(5)\n",
    "l2.next.next.next.next = ListNode(6)\n",
    "l2.next.next.next.next.next = ListNode(4)\n",
    "l2.next.next.next.next.next.next = ListNode(7)"
   ]
  },
  {
   "cell_type": "code",
   "execution_count": 211,
   "metadata": {},
   "outputs": [],
   "source": [
    "def oddEvenList(head : ListNode) -> ListNode:\n",
    "    # 예외 처리\n",
    "    if head is None :\n",
    "        return None\n",
    "    \n",
    "    odd = head\n",
    "    even_head = even = head.next\n",
    "\n",
    "    # 반복하면서 홀짝 노드 처리\n",
    "    while even and even.next:\n",
    "        odd.next, even.next = odd.next.next, even.next.next\n",
    "        odd, even = odd.next, even.next\n",
    "    \n",
    "    # 홀수 노드의 마지막을 짝수 헤드로 연결\n",
    "    odd.next = even_head\n",
    "\n",
    "    return head"
   ]
  },
  {
   "cell_type": "code",
   "execution_count": 212,
   "metadata": {},
   "outputs": [
    {
     "name": "stdout",
     "output_type": "stream",
     "text": [
      "1 3 5 2 4 "
     ]
    }
   ],
   "source": [
    "printNodes(oddEvenList(l1))"
   ]
  },
  {
   "cell_type": "code",
   "execution_count": 213,
   "metadata": {},
   "outputs": [
    {
     "name": "stdout",
     "output_type": "stream",
     "text": [
      "2 3 6 7 1 5 4 "
     ]
    }
   ],
   "source": [
    "printNodes(oddEvenList(l2))"
   ]
  },
  {
   "attachments": {},
   "cell_type": "markdown",
   "metadata": {},
   "source": [
    "# Q19. 역순 연결 리스트2\n",
    "인덱스m에서 n까지를 역순으로 만들어라. 인덱스 m은 1부터 시작한다."
   ]
  },
  {
   "attachments": {},
   "cell_type": "markdown",
   "metadata": {},
   "source": [
    "입력 : 1->2->3->4->5->NULL, m = 2, n =4\n",
    "\n",
    "출력 : 1->4->3->2->5->NULL"
   ]
  },
  {
   "attachments": {},
   "cell_type": "markdown",
   "metadata": {},
   "source": [
    "<내가 풀어본 방식>\n",
    "\n",
    "m번째 전까지는 연결 리스트를 똑같이 받아주고, m번째부터 n번째까지는 반복문을 통해서 역순 리스트를 따로 만들어주고\n",
    "\n",
    "3개의 연결 리스트를 차례대로 다시 연결해주면 되지 않을까?"
   ]
  },
  {
   "cell_type": "code",
   "execution_count": 344,
   "metadata": {},
   "outputs": [],
   "source": [
    "l1 = ListNode(1)\n",
    "l1.next = ListNode(2)\n",
    "l1.next.next = ListNode(3)\n",
    "l1.next.next.next = ListNode(4)\n",
    "l1.next.next.next.next = ListNode(5)"
   ]
  },
  {
   "cell_type": "code",
   "execution_count": 345,
   "metadata": {},
   "outputs": [],
   "source": [
    "def reverseBetween(head : ListNode, left : int, right : int) -> ListNode:\n",
    "    # 예외 처리\n",
    "    if left == right :\n",
    "        return head\n",
    "    \n",
    "    vfront = front = head\n",
    "    rev = None\n",
    "    end = head\n",
    "    cnt = 1\n",
    "\n",
    "    for i in range(0,left-1):\n",
    "        if i != 0:    \n",
    "            front = front.next\n",
    "        end = end.next\n",
    "        cnt += 1\n",
    "    \n",
    "    while cnt <= right:\n",
    "        rev, rev.next, end = end, rev, end.next\n",
    "        cnt += 1\n",
    "\n",
    "    vrev = rev\n",
    "    for i in range(0,right - left):\n",
    "        rev = rev.next\n",
    "    rev.next = end\n",
    "\n",
    "    front.next = vrev\n",
    "\n",
    "    return printNodes(vfront) "
   ]
  },
  {
   "cell_type": "code",
   "execution_count": 346,
   "metadata": {},
   "outputs": [
    {
     "name": "stdout",
     "output_type": "stream",
     "text": [
      "1 4 3 2 5 "
     ]
    }
   ],
   "source": [
    "reverseBetween(l1, 2, 4)"
   ]
  },
  {
   "attachments": {},
   "cell_type": "markdown",
   "metadata": {},
   "source": [
    "단순히 해당 입력과 출력을 뽑는다면 잘 작동하는 것처럼 보이지만, LeetCode에서 디버깅시 head = [3,5]일 때 에러가 발생한다.\n",
    "\n",
    "그렇다면 어떻게 풀이하는 것이 맞는 방법일까...\n",
    "\n",
    "<풀이 1 : 반복 구조로 노드 뒤집기>\n",
    "\n",
    "\n",
    "내일 다시 볼 것..."
   ]
  },
  {
   "cell_type": "code",
   "execution_count": null,
   "metadata": {},
   "outputs": [],
   "source": [
    "l1 = ListNode(1)\n",
    "l1.next = ListNode(2)\n",
    "l1.next.next = ListNode(3)\n",
    "l1.next.next.next = ListNode(4)\n",
    "l1.next.next.next.next = ListNode(5)"
   ]
  },
  {
   "cell_type": "code",
   "execution_count": 348,
   "metadata": {},
   "outputs": [],
   "source": [
    "def reverseBetween(head : ListNode, m : int, n : int) -> ListNode:\n",
    "    # 예외 처리\n",
    "    if not head or m == n:\n",
    "        return head\n",
    "    \n",
    "    root = start = ListNode(None)\n",
    "    root.next = head\n",
    "    # start, end 지정\n",
    "    for _ in range(m-1):\n",
    "        start = start.next\n",
    "    end = start.next\n",
    "\n",
    "    # 반복하면서 노드 차례대로 뒤집기\n",
    "    for _ in range(n-m):\n",
    "        tmp, start.next, end.next = start.next, end.next, end.next.next\n",
    "        start.next.next = tmp\n",
    "        \n",
    "    return root.next"
   ]
  },
  {
   "cell_type": "code",
   "execution_count": 351,
   "metadata": {},
   "outputs": [
    {
     "name": "stdout",
     "output_type": "stream",
     "text": [
      "1 4 3 2 5 "
     ]
    }
   ],
   "source": [
    "printNodes(reverseBetween(l1, 2, 4))"
   ]
  },
  {
   "cell_type": "code",
   "execution_count": null,
   "metadata": {},
   "outputs": [],
   "source": []
  }
 ],
 "metadata": {
  "kernelspec": {
   "display_name": "base",
   "language": "python",
   "name": "python3"
  },
  "language_info": {
   "codemirror_mode": {
    "name": "ipython",
    "version": 3
   },
   "file_extension": ".py",
   "mimetype": "text/x-python",
   "name": "python",
   "nbconvert_exporter": "python",
   "pygments_lexer": "ipython3",
   "version": "3.9.13"
  },
  "orig_nbformat": 4
 },
 "nbformat": 4,
 "nbformat_minor": 2
}
