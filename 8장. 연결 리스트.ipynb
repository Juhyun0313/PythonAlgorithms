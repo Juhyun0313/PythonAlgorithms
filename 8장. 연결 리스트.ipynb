{
 "cells": [
  {
   "attachments": {},
   "cell_type": "markdown",
   "metadata": {},
   "source": [
    "# 8장"
   ]
  },
  {
   "cell_type": "code",
   "execution_count": 2,
   "metadata": {},
   "outputs": [],
   "source": [
    "import collections\n",
    "\n",
    "# 연결 리스트 노드 함수\n",
    "\n",
    "class ListNode(object):\n",
    "    def __init__(self, val=0, next=None):\n",
    "        self.val = val\n",
    "        self.next = next\n",
    "\n",
    "def printNodes(node:ListNode):\n",
    "    crnt_node = node\n",
    "    while crnt_node is not None:\n",
    "        print(crnt_node.val , end= ' ')\n",
    "        crnt_node = crnt_node.next"
   ]
  },
  {
   "attachments": {},
   "cell_type": "markdown",
   "metadata": {},
   "source": [
    "# Q13. 팰린드롬 연결 리스트\n",
    "연결 리스트가 팰린드롬 구조인지 판별하라.\n"
   ]
  },
  {
   "attachments": {},
   "cell_type": "markdown",
   "metadata": {},
   "source": [
    "입력 : 1 -> 2\n",
    "\n",
    "출력 : False\n",
    "\n",
    "입력 : 1 -> 2 -> 2 -> 1\n",
    "\n",
    "출력 : True"
   ]
  },
  {
   "cell_type": "code",
   "execution_count": 38,
   "metadata": {},
   "outputs": [
    {
     "name": "stdout",
     "output_type": "stream",
     "text": [
      "head1 : \n",
      "1 2 \n",
      "head2 : \n",
      "1 2 2 1 "
     ]
    }
   ],
   "source": [
    "head1 = ListNode(1)\n",
    "head1.next = ListNode(2)\n",
    "print('head1 : ')\n",
    "printNodes(head1)\n",
    "\n",
    "head2 = ListNode(1)\n",
    "head2.next = ListNode(2)\n",
    "head2.next.next = ListNode(2)\n",
    "head2.next.next.next = ListNode(1)\n",
    "print('\\nhead2 : ')\n",
    "printNodes(head2)\n"
   ]
  },
  {
   "attachments": {},
   "cell_type": "markdown",
   "metadata": {},
   "source": [
    "연결 리스트에 대한 구조가 와닿지 않아 먼저 풀이를 참고해 보았다."
   ]
  },
  {
   "attachments": {},
   "cell_type": "markdown",
   "metadata": {},
   "source": [
    "<풀이 1 - 리스트 변환>\n",
    "\n",
    "단순히 연결리스트에 있는 원소들을 list의 형식으로 바꾸어 원소를 비교하는 방법이다."
   ]
  },
  {
   "cell_type": "code",
   "execution_count": 39,
   "metadata": {},
   "outputs": [],
   "source": [
    "def Palindrome(head : ListNode) -> bool :\n",
    "    q : list = []\n",
    "\n",
    "    # 빈 연결리스트일 경우\n",
    "    if not head :\n",
    "        return False\n",
    "    \n",
    "    # head의 첫 번째 노드를 시작으로 다음 노드를 배열로 저장\n",
    "    node = head\n",
    "    while node is not None :\n",
    "        q.append(node.val)\n",
    "        node = node.next\n",
    "    \n",
    "    # 팰린드롬 판별\n",
    "    # 리스트의 양끝 원소를 비교하고 제거\n",
    "    while len(q) > 1:\n",
    "        if q.pop(0) != q.pop():\n",
    "            return False\n",
    "        return True"
   ]
  },
  {
   "cell_type": "code",
   "execution_count": 40,
   "metadata": {},
   "outputs": [
    {
     "data": {
      "text/plain": [
       "False"
      ]
     },
     "execution_count": 40,
     "metadata": {},
     "output_type": "execute_result"
    }
   ],
   "source": [
    "Palindrome(head1)"
   ]
  },
  {
   "cell_type": "code",
   "execution_count": 41,
   "metadata": {},
   "outputs": [
    {
     "data": {
      "text/plain": [
       "True"
      ]
     },
     "execution_count": 41,
     "metadata": {},
     "output_type": "execute_result"
    }
   ],
   "source": [
    "Palindrome(head2)"
   ]
  },
  {
   "attachments": {},
   "cell_type": "markdown",
   "metadata": {},
   "source": [
    "<풀이 2 - 데크를 이용한 최적화>\n",
    "\n",
    "기본적으로 리스트를 활용하는 것과 똑같지만 리스트 대신 데크로 선언하는 것만 다르다."
   ]
  },
  {
   "cell_type": "code",
   "execution_count": 42,
   "metadata": {},
   "outputs": [],
   "source": [
    "def Palindrome(head : ListNode) -> bool:\n",
    "    q = collections.deque()\n",
    "    \n",
    "    # head에 아무것도 없을 때\n",
    "    if not head:\n",
    "        return False\n",
    "    \n",
    "    # head의 첫번째 노드를 시작으로 다음 노드를 배열로 저장\n",
    "    node = head\n",
    "    while node is not None:\n",
    "        q.append(node.val)\n",
    "        node = node.next\n",
    "    \n",
    "    # 팰린드롬 판별\n",
    "    while len(q) > 1:\n",
    "        if q.popleft() != q.pop():\n",
    "            return False\n",
    "    return True"
   ]
  },
  {
   "cell_type": "code",
   "execution_count": 43,
   "metadata": {},
   "outputs": [
    {
     "data": {
      "text/plain": [
       "False"
      ]
     },
     "execution_count": 43,
     "metadata": {},
     "output_type": "execute_result"
    }
   ],
   "source": [
    "Palindrome(head1)"
   ]
  },
  {
   "cell_type": "code",
   "execution_count": 44,
   "metadata": {},
   "outputs": [
    {
     "data": {
      "text/plain": [
       "True"
      ]
     },
     "execution_count": 44,
     "metadata": {},
     "output_type": "execute_result"
    }
   ],
   "source": [
    "Palindrome(head2)"
   ]
  },
  {
   "attachments": {},
   "cell_type": "markdown",
   "metadata": {},
   "source": [
    "<풀이 3 - 런너를 이용한 우아한 풀이>\n",
    "\n",
    "연결 리스트에서 자주 등장하게되는 풀이 방법이라고 한다. \n",
    "\n",
    "Fast Runner는 보통 두칸씩, Slow Runner는 한칸씩 움직이게 되면 Fast Runner가 마지막에 다달았을 때 Slow Runner는 중간 지점에 오게된다. \n",
    "\n",
    "또한 Slow Runner가 한칸씩 움직일 때 포인터를 역방향으로 등록해서 Rev를 만들게되면 중간 지점까지 역방향으로 연결된 연결리스트가 완성되게 된다. \n",
    "\n",
    "이 상태에서 Slow Runner는 남은 방향을 끝까지가고 역방향 연결리스트와 비교하게 되면 중간 지점부터 팰린드롬인지 아닌지 비교하게 되는 알고리즘이 완성되게 된다."
   ]
  },
  {
   "cell_type": "code",
   "execution_count": 45,
   "metadata": {},
   "outputs": [],
   "source": [
    "def Palindrome(head : ListNode) -> bool:\n",
    "    rev = None\n",
    "    slow = fast = head\n",
    "    \n",
    "    # 러너를 이용해 역순 연결 리스트 구성\n",
    "    while fast and fast.next :\n",
    "        fast = fast.next.next\n",
    "        rev, rev.next, slow = slow, rev, slow.next\n",
    "    if fast:\n",
    "        slow = slow.next\n",
    "    \n",
    "    # 팰린드롬 여부 확인\n",
    "    while rev and rev.val == slow.val:\n",
    "        slow, rev = slow.next, rev.next\n",
    "\n",
    "    # 끝까지 비교가 되었다면 slow와 rev는 None 일 것이다.\n",
    "    return not rev"
   ]
  },
  {
   "attachments": {},
   "cell_type": "markdown",
   "metadata": {},
   "source": [
    "//런너의 while 부분에서 rev, rev.next, slow = slow, rev, slow.next는 동시 다발적으로 발생하기때문에 다음과 같이 작용한다. //\n",
    "\n",
    "rev = 1 2 3 4 / \n",
    "rev.next => rev = 1 / \n",
    "slow = 2 3 4\n",
    "\n",
    "rev = 2 3 4 / \n",
    "rev.next => rev = 2 1 / \n",
    "slow = 3 4\n",
    "\n",
    "rev = 3 4 / \n",
    "rev.next => rev = 3 2 1 / \n",
    "slow = 4\n",
    "\n",
    "rev = 4 / \n",
    "rev.next => rev = 4 3 2 1 / \n",
    "slow = None"
   ]
  },
  {
   "cell_type": "code",
   "execution_count": 46,
   "metadata": {},
   "outputs": [
    {
     "data": {
      "text/plain": [
       "False"
      ]
     },
     "execution_count": 46,
     "metadata": {},
     "output_type": "execute_result"
    }
   ],
   "source": [
    "Palindrome(head1)"
   ]
  },
  {
   "cell_type": "code",
   "execution_count": 47,
   "metadata": {},
   "outputs": [
    {
     "data": {
      "text/plain": [
       "True"
      ]
     },
     "execution_count": 47,
     "metadata": {},
     "output_type": "execute_result"
    }
   ],
   "source": [
    "Palindrome(head2)"
   ]
  },
  {
   "attachments": {},
   "cell_type": "markdown",
   "metadata": {},
   "source": [
    "# Q14. 두 정렬 리스트의 병합\n",
    "정렬되어 있는 두연결 리스트를 합쳐라."
   ]
  },
  {
   "attachments": {},
   "cell_type": "markdown",
   "metadata": {},
   "source": [
    "입력 1 : 1 -> 2 -> 4\n",
    "\n",
    "입력 2 : 1 -> 3 -> 4\n",
    "\n",
    "출력 : 1 -> 1 -> 2 -> 3 -> 4 -> 4"
   ]
  },
  {
   "cell_type": "code",
   "execution_count": 48,
   "metadata": {},
   "outputs": [],
   "source": [
    "l1 = ListNode(1)\n",
    "l1.next = ListNode(2)\n",
    "l1.next.next = ListNode(4)\n",
    "\n",
    "l2 = ListNode(1)\n",
    "l2.next = ListNode(3)\n",
    "l2.next.next = ListNode(4)"
   ]
  },
  {
   "attachments": {},
   "cell_type": "markdown",
   "metadata": {},
   "source": [
    "처음엔 입력받은 연결 리스트를 배열 형태로 정리하여 합친 후 정렬하여 다시 연결리스트를 만드는 것을 생각헀다.\n",
    "\n",
    "하지만 다시 연결 리스트로 만드는 과정에서 head.next의 길이를 조절할 수 없다는 문제가 있기 때문에 불가능했다.\n",
    "\n",
    "책의 풀이는 주어진 연결 리스트가 이미 정렬되어 있기 때문에 첫 번째 값부터 차례대로 비교하면서 연결 리스트를 이어주는 방법이었다."
   ]
  },
  {
   "cell_type": "code",
   "execution_count": 49,
   "metadata": {},
   "outputs": [],
   "source": [
    "def mergeTwoLists(l1: ListNode, l2: ListNode) -> ListNode:\n",
    "        if (not l1) or (l2 and l1.val > l2.val):\n",
    "            l1, l2 = l2, l1\n",
    "        if l1:\n",
    "            l1.next = mergeTwoLists(l1.next, l2)\n",
    "        return l1"
   ]
  },
  {
   "attachments": {},
   "cell_type": "markdown",
   "metadata": {},
   "source": [
    "재귀 구조를 통해서 l1의 값이 l2보다 크게되면 두 연결 리스트를 교환해준다.\n",
    "\n",
    "그렇게되면 l1값은 l2보다 작아지게 되고 l1.next로 넘어가 다시 l1.next와 l2를 비교하면서\n",
    "\n",
    "작은 값을 하나씩 연결해나가는 것이다."
   ]
  },
  {
   "cell_type": "code",
   "execution_count": 50,
   "metadata": {},
   "outputs": [
    {
     "name": "stdout",
     "output_type": "stream",
     "text": [
      "1 1 2 3 4 4 "
     ]
    }
   ],
   "source": [
    "mergeTwoLists(l1, l2)\n",
    "printNodes(l1)"
   ]
  },
  {
   "attachments": {},
   "cell_type": "markdown",
   "metadata": {},
   "source": [
    "# Q15. 역순 연결 리스트\n",
    "연결 리스트를 뒤집어라."
   ]
  },
  {
   "attachments": {},
   "cell_type": "markdown",
   "metadata": {},
   "source": [
    "입력 : 1->2->3->4->5->NULL\n",
    "\n",
    "출력 : 5->4->3->2->1->NULL"
   ]
  },
  {
   "cell_type": "code",
   "execution_count": 3,
   "metadata": {},
   "outputs": [],
   "source": [
    "head = ListNode(1)\n",
    "head.next = ListNode(2)\n",
    "head.next.next = ListNode(3)\n",
    "head.next.next.next = ListNode(4)\n",
    "head.next.next.next.next = ListNode(5)"
   ]
  },
  {
   "cell_type": "code",
   "execution_count": 53,
   "metadata": {},
   "outputs": [],
   "source": [
    "def reverseList(l1 : ListNode) -> ListNode:\n",
    "    rev = None\n",
    "    slow = head\n",
    "\n",
    "    while slow :\n",
    "        rev, rev.next, slow = slow, rev, slow.next\n",
    "        \n",
    "    return printNodes(rev)"
   ]
  },
  {
   "cell_type": "code",
   "execution_count": 60,
   "metadata": {},
   "outputs": [
    {
     "name": "stdout",
     "output_type": "stream",
     "text": [
      "1 2 3 4 5 "
     ]
    }
   ],
   "source": [
    "printNodes(head)"
   ]
  },
  {
   "cell_type": "code",
   "execution_count": 61,
   "metadata": {},
   "outputs": [
    {
     "name": "stdout",
     "output_type": "stream",
     "text": [
      "5 4 3 2 1 "
     ]
    }
   ],
   "source": [
    "reverseList(head)"
   ]
  },
  {
   "attachments": {},
   "cell_type": "markdown",
   "metadata": {},
   "source": [
    "<풀이 1 - 재귀 구조로 뒤집기>\n",
    "\n"
   ]
  },
  {
   "cell_type": "code",
   "execution_count": 65,
   "metadata": {},
   "outputs": [],
   "source": [
    "def reverseList(head: ListNode) -> ListNode:\n",
    "    def reverse(node: ListNode, prev: ListNode = None):\n",
    "        # 빈 노드일 경우 None을 return해준다.\n",
    "        if not node:\n",
    "            return prev\n",
    "        next, node.next = node.next, prev\n",
    "        return reverse(next, node)\n",
    "    \n",
    "    return reverse(head)"
   ]
  },
  {
   "attachments": {},
   "cell_type": "markdown",
   "metadata": {},
   "source": [
    "이전 문제에서 재귀 구조로 정렬한 것과 비슷한 방법이다.\n",
    "\n",
    "1>>\n",
    "\n",
    "node : 1 2 3 4 5 // prev : None\n",
    "\n",
    "next : 2 3 4 5 // node.next : 2 3 4 5 => None ∴ node : 1\n",
    "\n",
    "2>>\n",
    "\n",
    "node : 2 3 4 5 // prev : 1\n",
    "\n",
    "next : 3 4 5 // node.next : 3 4 5 => 1 ∴ node : 2 1\n",
    "\n",
    "3>>\n",
    "\n",
    "node : 3 4 5 // prev : 2 1\n",
    "\n",
    "next : 4 5 // node.next : 4 5 => 2 1 ∴ node : 3 2 1\n",
    "\n",
    "..."
   ]
  },
  {
   "cell_type": "code",
   "execution_count": 69,
   "metadata": {},
   "outputs": [
    {
     "name": "stdout",
     "output_type": "stream",
     "text": [
      "5 4 3 2 1 "
     ]
    }
   ],
   "source": [
    "printNodes(reverseList(head))"
   ]
  },
  {
   "attachments": {},
   "cell_type": "markdown",
   "metadata": {},
   "source": [
    "<풀이 2 - 반복 구조로 뒤집기>"
   ]
  },
  {
   "cell_type": "code",
   "execution_count": 4,
   "metadata": {},
   "outputs": [],
   "source": [
    "def reverseList(head: ListNode) -> ListNode:\n",
    "    node, prev = head, None\n",
    "    \n",
    "    while node:\n",
    "        next, node.next = node.next, prev\n",
    "        prev, node = node, next\n",
    "    \n",
    "    return prev"
   ]
  },
  {
   "attachments": {},
   "cell_type": "markdown",
   "metadata": {},
   "source": [
    "node : 1 2 3 4 5 // prev : None\n",
    "\n",
    "1>>\n",
    "\n",
    "next : 2 3 4 5 // node.next : 2 3 4 5 => None ∴ node : 1\n",
    "\n",
    "prev : 1 // node : 2 3 4 5\n",
    "\n",
    "2>>\n",
    "\n",
    "next : 3 4 5 // node.next : 3 4 5 => 1 ∴ node : 2 1\n",
    "\n",
    "prev : 2 1 // node : 3 4 5\n",
    "\n",
    "..."
   ]
  },
  {
   "cell_type": "code",
   "execution_count": 5,
   "metadata": {},
   "outputs": [
    {
     "name": "stdout",
     "output_type": "stream",
     "text": [
      "1 2 3 4 5 "
     ]
    }
   ],
   "source": [
    "printNodes(head)"
   ]
  },
  {
   "cell_type": "code",
   "execution_count": 6,
   "metadata": {},
   "outputs": [
    {
     "name": "stdout",
     "output_type": "stream",
     "text": [
      "5 4 3 2 1 "
     ]
    }
   ],
   "source": [
    "printNodes(reverseList(head))"
   ]
  },
  {
   "attachments": {},
   "cell_type": "markdown",
   "metadata": {},
   "source": [
    "# Q16. 두 수의 덧셈\n",
    "역순으로 저장된 연결 리스트의 숫자를 더하라."
   ]
  },
  {
   "attachments": {},
   "cell_type": "markdown",
   "metadata": {},
   "source": [
    "입력 1 : (2->4->3) + 입력 2 : (5->6->4)\n",
    "\n",
    "//342 + 465\n",
    "\n",
    "출력 : 7->0->8  # 807"
   ]
  },
  {
   "cell_type": "code",
   "execution_count": 7,
   "metadata": {},
   "outputs": [],
   "source": [
    "l1 = ListNode(2)\n",
    "l1.next = ListNode(4)\n",
    "l1.next.next = ListNode(3)\n",
    "\n",
    "l2 = ListNode(5)\n",
    "l2.next = ListNode(6)\n",
    "l2.next.next = ListNode(4)"
   ]
  },
  {
   "attachments": {},
   "cell_type": "markdown",
   "metadata": {},
   "source": [
    "<내가 풀어본 방식>\n",
    "\n",
    "리스트 노드의 첫 번째 원소가 일의 자리부터 차례대로 진행되기 때문에\n",
    "\n",
    "차례대로 더해주면 된다. 다만 10이 넘어갈 때 해당 값에서 10을 빼주고 다음 노드에서 1을 더해줘야한다.\n",
    "\n",
    "또한, 두 숫자의 자릿수가 다르다면 자릿수를 0으로 채워 맞춰줘야한다."
   ]
  },
  {
   "cell_type": "code",
   "execution_count": null,
   "metadata": {},
   "outputs": [],
   "source": [
    "def sumList(l1 : ListNode, l2 : ListNode) -> ListNode:\n",
    "    "
   ]
  }
 ],
 "metadata": {
  "kernelspec": {
   "display_name": "base",
   "language": "python",
   "name": "python3"
  },
  "language_info": {
   "codemirror_mode": {
    "name": "ipython",
    "version": 3
   },
   "file_extension": ".py",
   "mimetype": "text/x-python",
   "name": "python",
   "nbconvert_exporter": "python",
   "pygments_lexer": "ipython3",
   "version": "3.9.13"
  },
  "orig_nbformat": 4
 },
 "nbformat": 4,
 "nbformat_minor": 2
}
